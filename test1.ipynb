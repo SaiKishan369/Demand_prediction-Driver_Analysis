{
 "cells": [
  {
   "cell_type": "code",
   "execution_count": 1,
   "metadata": {},
   "outputs": [
    {
     "name": "stdout",
     "output_type": "stream",
     "text": [
      "Requirement already satisfied: pandas in c:\\users\\saiki\\appdata\\local\\programs\\python\\python313\\lib\\site-packages (2.2.3)\n",
      "Requirement already satisfied: scikit-learn in c:\\users\\saiki\\appdata\\local\\programs\\python\\python313\\lib\\site-packages (1.6.0)\n",
      "Requirement already satisfied: matplotlib in c:\\users\\saiki\\appdata\\local\\programs\\python\\python313\\lib\\site-packages (3.10.0)\n",
      "Requirement already satisfied: seaborn in c:\\users\\saiki\\appdata\\local\\programs\\python\\python313\\lib\\site-packages (0.13.2)\n",
      "Requirement already satisfied: joblib in c:\\users\\saiki\\appdata\\local\\programs\\python\\python313\\lib\\site-packages (1.4.2)\n",
      "Requirement already satisfied: numpy>=1.26.0 in c:\\users\\saiki\\appdata\\local\\programs\\python\\python313\\lib\\site-packages (from pandas) (2.2.1)\n",
      "Requirement already satisfied: python-dateutil>=2.8.2 in c:\\users\\saiki\\appdata\\local\\programs\\python\\python313\\lib\\site-packages (from pandas) (2.9.0.post0)\n",
      "Requirement already satisfied: pytz>=2020.1 in c:\\users\\saiki\\appdata\\local\\programs\\python\\python313\\lib\\site-packages (from pandas) (2024.2)\n",
      "Requirement already satisfied: tzdata>=2022.7 in c:\\users\\saiki\\appdata\\local\\programs\\python\\python313\\lib\\site-packages (from pandas) (2024.2)\n",
      "Requirement already satisfied: scipy>=1.6.0 in c:\\users\\saiki\\appdata\\local\\programs\\python\\python313\\lib\\site-packages (from scikit-learn) (1.14.1)\n",
      "Requirement already satisfied: threadpoolctl>=3.1.0 in c:\\users\\saiki\\appdata\\local\\programs\\python\\python313\\lib\\site-packages (from scikit-learn) (3.5.0)\n",
      "Requirement already satisfied: contourpy>=1.0.1 in c:\\users\\saiki\\appdata\\local\\programs\\python\\python313\\lib\\site-packages (from matplotlib) (1.3.1)\n",
      "Requirement already satisfied: cycler>=0.10 in c:\\users\\saiki\\appdata\\local\\programs\\python\\python313\\lib\\site-packages (from matplotlib) (0.12.1)\n",
      "Requirement already satisfied: fonttools>=4.22.0 in c:\\users\\saiki\\appdata\\local\\programs\\python\\python313\\lib\\site-packages (from matplotlib) (4.55.3)\n",
      "Requirement already satisfied: kiwisolver>=1.3.1 in c:\\users\\saiki\\appdata\\local\\programs\\python\\python313\\lib\\site-packages (from matplotlib) (1.4.7)\n",
      "Requirement already satisfied: packaging>=20.0 in c:\\users\\saiki\\appdata\\local\\programs\\python\\python313\\lib\\site-packages (from matplotlib) (24.2)\n",
      "Requirement already satisfied: pillow>=8 in c:\\users\\saiki\\appdata\\local\\programs\\python\\python313\\lib\\site-packages (from matplotlib) (11.0.0)\n",
      "Requirement already satisfied: pyparsing>=2.3.1 in c:\\users\\saiki\\appdata\\local\\programs\\python\\python313\\lib\\site-packages (from matplotlib) (3.2.0)\n",
      "Requirement already satisfied: six>=1.5 in c:\\users\\saiki\\appdata\\local\\programs\\python\\python313\\lib\\site-packages (from python-dateutil>=2.8.2->pandas) (1.17.0)\n"
     ]
    }
   ],
   "source": [
    "!pip install pandas scikit-learn matplotlib seaborn joblib\n"
   ]
  },
  {
   "cell_type": "code",
   "execution_count": 7,
   "metadata": {},
   "outputs": [
    {
     "name": "stdout",
     "output_type": "stream",
     "text": [
      "Accuracy: 0.9488888888888889\n",
      "Classification Report:\n",
      "               precision    recall  f1-score   support\n",
      "\n",
      "           0       0.98      0.91      0.95       218\n",
      "           1       0.92      0.98      0.95       232\n",
      "\n",
      "    accuracy                           0.95       450\n",
      "   macro avg       0.95      0.95      0.95       450\n",
      "weighted avg       0.95      0.95      0.95       450\n",
      "\n",
      "Model saved as demand_prediction_model.pkl\n"
     ]
    }
   ],
   "source": [
    "# Import Required Libraries\n",
    "import pandas as pd\n",
    "import numpy as np\n",
    "import matplotlib.pyplot as plt\n",
    "import seaborn as sns\n",
    "from sklearn.model_selection import train_test_split\n",
    "from sklearn.ensemble import RandomForestClassifier\n",
    "from sklearn.metrics import accuracy_score, classification_report\n",
    "import joblib\n",
    "\n",
    "# Load the dataset (Ensure your CSV file is in the same directory)\n",
    "df = pd.read_csv(\"Dataset/modified_apartment_data.csv\")\n",
    "\n",
    "# Convert Time to Minutes Since Midnight\n",
    "def time_to_minutes(time_str):\n",
    "    h, m = map(int, time_str.split(\":\"))\n",
    "    return h * 60 + m\n",
    "\n",
    "df[\"Time_Minutes\"] = df[\"Timings\"].apply(time_to_minutes)\n",
    "df.drop(columns=[\"Timings\"], inplace=True)  # Drop original time column\n",
    "\n",
    "# Create Positive Labels (Demand Exists)\n",
    "df[\"Demand\"] = 1  # All entries have demand\n",
    "\n",
    "# Generate Negative Samples (No Demand)\n",
    "np.random.seed(42)\n",
    "negative_samples = pd.DataFrame({\n",
    "    \"Latitude\": df[\"Latitude\"] + np.random.uniform(-0.05, 0.05, size=len(df)),\n",
    "    \"Longitude\": df[\"Longitude\"] + np.random.uniform(-0.05, 0.05, size=len(df)),\n",
    "    \"Time_Minutes\": np.random.randint(0, 1440, size=len(df)),  # Random times across the day\n",
    "    \"Demand\": 0  # No demand\n",
    "})\n",
    "\n",
    "# Combine Positive & Negative Samples\n",
    "df_final = pd.concat([df, negative_samples], ignore_index=True)\n",
    "\n",
    "# Split Data for Training\n",
    "X = df_final[[\"Latitude\", \"Longitude\", \"Time_Minutes\"]]\n",
    "y = df_final[\"Demand\"]\n",
    "X_train, X_test, y_train, y_test = train_test_split(X, y, test_size=0.2, random_state=42)\n",
    "\n",
    "# Train Random Forest Classifier\n",
    "model = RandomForestClassifier(n_estimators=100, random_state=42)\n",
    "model.fit(X_train, y_train)\n",
    "\n",
    "# Model Evaluation\n",
    "y_pred = model.predict(X_test)\n",
    "print(\"Accuracy:\", accuracy_score(y_test, y_pred))\n",
    "print(\"Classification Report:\\n\", classification_report(y_test, y_pred))\n",
    "\n",
    "# Save Model for Future Use\n",
    "joblib.dump(model, \"demand_prediction_model1.pkl\")\n",
    "print(\"Model saved as demand_prediction_model.pkl\")\n"
   ]
  },
  {
   "cell_type": "code",
   "execution_count": null,
   "metadata": {},
   "outputs": [
    {
     "name": "stdout",
     "output_type": "stream",
     "text": [
      "Predicted Demand: High\n"
     ]
    }
   ],
   "source": [
    "# Load the saved model\n",
    "model = joblib.load(\"demand_prediction_model1.pkl\")\n",
    "\n",
    "# Example Test Input\n",
    "test_input = pd.DataFrame({\n",
    "    \"Latitude\": [12.9716],   # Example: Bangalore\n",
    "    \"Longitude\": [77.5946],\n",
    "    \"Time_Minutes\": [8 * 60]  # 8:00 AM converted to minutes\n",
    "})\n",
    "\n",
    "# Predict Demand\n",
    "prediction = model.predict(test_input)\n",
    "\n",
    "# Output Result\n",
    "print(\"Predicted Demand:\", \"High\" if prediction[0] == 1 else \"Low\")\n",
    "\n"
   ]
  },
  {
   "cell_type": "code",
   "execution_count": 8,
   "metadata": {},
   "outputs": [
    {
     "name": "stdout",
     "output_type": "stream",
     "text": [
      "Predicted Demand: Low\n"
     ]
    }
   ],
   "source": [
    "# Load the saved model\n",
    "model = joblib.load(\"demand_prediction_model1.pkl\")\n",
    "\n",
    "# Example Test Input\n",
    "test_input = pd.DataFrame({\n",
    "    \"Latitude\": [12.9716],   # Example: Bangalore\n",
    "    \"Longitude\": [77.5946],\n",
    "    \"Time_Minutes\": [14 * 60]  # 8:00 AM converted to minutes\n",
    "})\n",
    "\n",
    "# Predict Demand\n",
    "prediction = model.predict(test_input)\n",
    "\n",
    "# Output Result\n",
    "print(\"Predicted Demand:\", \"High\" if prediction[0] == 1 else \"Low\")\n"
   ]
  }
 ],
 "metadata": {
  "kernelspec": {
   "display_name": "Python 3",
   "language": "python",
   "name": "python3"
  },
  "language_info": {
   "codemirror_mode": {
    "name": "ipython",
    "version": 3
   },
   "file_extension": ".py",
   "mimetype": "text/x-python",
   "name": "python",
   "nbconvert_exporter": "python",
   "pygments_lexer": "ipython3",
   "version": "3.13.1"
  }
 },
 "nbformat": 4,
 "nbformat_minor": 2
}
