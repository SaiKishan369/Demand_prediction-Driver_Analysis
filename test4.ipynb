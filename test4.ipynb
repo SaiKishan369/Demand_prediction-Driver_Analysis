{
 "cells": [
  {
   "cell_type": "code",
   "execution_count": null,
   "metadata": {},
   "outputs": [
    {
     "name": "stdout",
     "output_type": "stream",
     "text": [
      "Accuracy: 0.9\n",
      "Demand at (12.9352, 77.6188) at 8:00: Low Demand\n",
      "Demand at (12.9352, 77.6188) at 18:00: Low Demand\n"
     ]
    },
    {
     "name": "stderr",
     "output_type": "stream",
     "text": [
      "c:\\Users\\saiki\\AppData\\Local\\Programs\\Python\\Python313\\Lib\\site-packages\\sklearn\\utils\\validation.py:2739: UserWarning: X does not have valid feature names, but RandomForestClassifier was fitted with feature names\n",
      "  warnings.warn(\n",
      "c:\\Users\\saiki\\AppData\\Local\\Programs\\Python\\Python313\\Lib\\site-packages\\sklearn\\utils\\validation.py:2739: UserWarning: X does not have valid feature names, but RandomForestClassifier was fitted with feature names\n",
      "  warnings.warn(\n"
     ]
    }
   ],
   "source": []
  },
  {
   "cell_type": "code",
   "execution_count": 8,
   "metadata": {},
   "outputs": [
    {
     "name": "stdout",
     "output_type": "stream",
     "text": [
      "                 Company Name  Latitude  Longitude\n",
      "0             Infosys Limited   12.8452    77.6636\n",
      "1               Wipro Limited   12.9063    77.6014\n",
      "2              Biocon Limited   12.8380    77.6770\n",
      "3  Bharat Electronics Limited   13.0399    77.5623\n",
      "4   Tata Consultancy Services   12.9843    77.7118\n",
      "Index(['Company Name', 'Latitude', 'Longitude'], dtype='object')\n"
     ]
    }
   ],
   "source": [
    "import pandas as pd\n",
    "\n",
    "# Load dataset\n",
    "df = pd.read_csv(\"Dataset/company_data.csv\")\n",
    "\n",
    "# Display first few rows\n",
    "print(df.head())\n",
    "\n",
    "# Check column names\n",
    "print(df.columns)\n"
   ]
  },
  {
   "cell_type": "code",
   "execution_count": 11,
   "metadata": {},
   "outputs": [
    {
     "name": "stdout",
     "output_type": "stream",
     "text": [
      "Training data prepared successfully!\n"
     ]
    }
   ],
   "source": [
    "# Create synthetic demand data\n",
    "high_demand = df.copy()\n",
    "high_demand[\"Time_Minutes\"] = np.random.randint(1020, 1140, len(df))  # Random times between 5-7 PM\n",
    "high_demand[\"Demand\"] = 1  # High Demand\n",
    "\n",
    "low_demand = df.copy()\n",
    "low_demand[\"Time_Minutes\"] = np.random.choice(\n",
    "    list(range(0, 1020)) + list(range(1140, 1440)), len(df)  # Times outside 5-7 PM\n",
    ")\n",
    "low_demand[\"Demand\"] = 0  # Low Demand\n",
    "\n",
    "# Combine both datasets\n",
    "df_combined = pd.concat([high_demand, low_demand], ignore_index=True)\n",
    "\n",
    "# Shuffle dataset\n",
    "df_combined = df_combined.sample(frac=1, random_state=42).reset_index(drop=True)\n",
    "\n",
    "# Save processed dataset\n",
    "df_combined.to_csv(\"Dataset/company_data.csv\", index=False)\n",
    "print(\"Training data prepared successfully!\")\n"
   ]
  },
  {
   "cell_type": "code",
   "execution_count": 13,
   "metadata": {},
   "outputs": [
    {
     "name": "stdout",
     "output_type": "stream",
     "text": [
      "Model Accuracy: 0.95\n",
      "Classification Report:\n",
      "               precision    recall  f1-score   support\n",
      "\n",
      "           0       1.00      0.83      0.91         6\n",
      "           1       0.93      1.00      0.97        14\n",
      "\n",
      "    accuracy                           0.95        20\n",
      "   macro avg       0.97      0.92      0.94        20\n",
      "weighted avg       0.95      0.95      0.95        20\n",
      "\n",
      "Model saved as demand_prediction.pkl\n"
     ]
    }
   ],
   "source": [
    "from sklearn.model_selection import train_test_split\n",
    "from sklearn.ensemble import RandomForestClassifier\n",
    "from sklearn.metrics import accuracy_score, classification_report\n",
    "import joblib\n",
    "\n",
    "# Load the processed dataset\n",
    "df = pd.read_csv(\"Dataset/company_data.csv\")\n",
    "\n",
    "# Define input features & target variable\n",
    "X = df[[\"Latitude\", \"Longitude\", \"Time_Minutes\"]]\n",
    "y = df[\"Demand\"]\n",
    "\n",
    "# Split into training (80%) & testing (20%)\n",
    "X_train, X_test, y_train, y_test = train_test_split(X, y, test_size=0.2, random_state=42)\n",
    "\n",
    "# Train model\n",
    "model = RandomForestClassifier(n_estimators=100, random_state=42)\n",
    "model.fit(X_train, y_train)\n",
    "\n",
    "# Evaluate model\n",
    "y_pred = model.predict(X_test)\n",
    "print(\"Model Accuracy:\", accuracy_score(y_test, y_pred))\n",
    "print(\"Classification Report:\\n\", classification_report(y_test, y_pred))\n",
    "\n",
    "# Save model\n",
    "joblib.dump(model, \"demand_prediction.pkl\")\n",
    "print(\"Model saved as demand_prediction.pkl\")\n"
   ]
  },
  {
   "cell_type": "code",
   "execution_count": 14,
   "metadata": {},
   "outputs": [
    {
     "name": "stdout",
     "output_type": "stream",
     "text": [
      "Predicted Demand: High\n"
     ]
    }
   ],
   "source": [
    "# Load the trained model\n",
    "model = joblib.load(\"demand_prediction.pkl\")\n",
    "\n",
    "# Example test input\n",
    "test_data = pd.DataFrame({\n",
    "    \"Latitude\": [12.9716],  # Example location\n",
    "    \"Longitude\": [77.5946],\n",
    "    \"Time_Minutes\": [17 * 60 + 30]  # 5:30 PM\n",
    "})\n",
    "\n",
    "# Predict demand\n",
    "prediction = model.predict(test_data)\n",
    "\n",
    "# Output result\n",
    "print(\"Predicted Demand:\", \"High\" if prediction[0] == 1 else \"Low\")\n"
   ]
  },
  {
   "cell_type": "code",
   "execution_count": 15,
   "metadata": {},
   "outputs": [
    {
     "name": "stdout",
     "output_type": "stream",
     "text": [
      "Predicted Demand: Low\n"
     ]
    }
   ],
   "source": [
    "# Load the trained model\n",
    "model = joblib.load(\"demand_prediction.pkl\")\n",
    "\n",
    "# Example test input\n",
    "test_data = pd.DataFrame({\n",
    "    \"Latitude\": [12.9716],  # Example location\n",
    "    \"Longitude\": [77.5946],\n",
    "    \"Time_Minutes\": [7 * 60 + 30]  # 5:30 PM\n",
    "})\n",
    "\n",
    "# Predict demand\n",
    "prediction = model.predict(test_data)\n",
    "\n",
    "# Output result\n",
    "print(\"Predicted Demand:\", \"High\" if prediction[0] == 1 else \"Low\")\n"
   ]
  }
 ],
 "metadata": {
  "kernelspec": {
   "display_name": "Python 3",
   "language": "python",
   "name": "python3"
  },
  "language_info": {
   "codemirror_mode": {
    "name": "ipython",
    "version": 3
   },
   "file_extension": ".py",
   "mimetype": "text/x-python",
   "name": "python",
   "nbconvert_exporter": "python",
   "pygments_lexer": "ipython3",
   "version": "3.13.1"
  }
 },
 "nbformat": 4,
 "nbformat_minor": 2
}
