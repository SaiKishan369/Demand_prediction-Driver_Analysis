{
 "cells": [
  {
   "cell_type": "code",
   "execution_count": 2,
   "metadata": {},
   "outputs": [
    {
     "name": "stdout",
     "output_type": "stream",
     "text": [
      "Model Accuracy: 0.9994490358126722\n",
      "              precision    recall  f1-score   support\n",
      "\n",
      "       False       1.00      1.00      1.00      1499\n",
      "        True       1.00      1.00      1.00       316\n",
      "\n",
      "    accuracy                           1.00      1815\n",
      "   macro avg       1.00      1.00      1.00      1815\n",
      "weighted avg       1.00      1.00      1.00      1815\n",
      "\n",
      "Model saved as demand_prediction_model.pkl\n"
     ]
    }
   ],
   "source": [
    "# Import necessary libraries\n",
    "import pandas as pd\n",
    "import numpy as np\n",
    "import joblib\n",
    "from sklearn.model_selection import train_test_split\n",
    "from sklearn.ensemble import RandomForestClassifier\n",
    "from sklearn.metrics import accuracy_score, classification_report\n",
    "\n",
    "# Load Metro Stations Dataset\n",
    "df = pd.read_csv(\"Dataset/bengaluru-metro-stations.csv\")\n",
    "\n",
    "# Function to convert time to minutes since midnight\n",
    "def time_to_minutes(time_str):\n",
    "    h, m = map(int, time_str.split(\":\"))\n",
    "    return h * 60 + m\n",
    "\n",
    "# Define peak hours (8:45-10:20 AM & 4:20-7:00 PM)\n",
    "PEAK_HOURS = [(8 * 60 + 45, 10 * 60 + 20), (16 * 60 + 20, 19 * 60)]\n",
    "\n",
    "# Generate training data\n",
    "train_data = []\n",
    "for _, row in df.iterrows():\n",
    "    lat, lon = row[\"Latitude\"], row[\"Longitude\"]\n",
    "    \n",
    "    # Generate demand data for different times of the day\n",
    "    for minutes in range(0, 1440, 10):  # Every 10 minutes\n",
    "        demand = any(start <= minutes <= end for start, end in PEAK_HOURS)  # 1 if peak hours, else 0\n",
    "        train_data.append([lat, lon, minutes, demand])\n",
    "\n",
    "# Create DataFrame\n",
    "train_df = pd.DataFrame(train_data, columns=[\"Latitude\", \"Longitude\", \"Time_Minutes\", \"Demand\"])\n",
    "\n",
    "# Split Data\n",
    "X = train_df[[\"Latitude\", \"Longitude\", \"Time_Minutes\"]]\n",
    "y = train_df[\"Demand\"]\n",
    "X_train, X_test, y_train, y_test = train_test_split(X, y, test_size=0.2, random_state=42)\n",
    "\n",
    "# Train Model\n",
    "model = RandomForestClassifier(n_estimators=100, random_state=42)\n",
    "model.fit(X_train, y_train)\n",
    "\n",
    "# Evaluate Model\n",
    "y_pred = model.predict(X_test)\n",
    "print(\"Model Accuracy:\", accuracy_score(y_test, y_pred))\n",
    "print(classification_report(y_test, y_pred))\n",
    "\n",
    "# Save the Model\n",
    "joblib.dump(model, \"demand_prediction_model.pkl\")\n",
    "print(\"Model saved as demand_prediction_model.pkl\")\n"
   ]
  },
  {
   "cell_type": "code",
   "execution_count": null,
   "metadata": {},
   "outputs": [
    {
     "name": "stdout",
     "output_type": "stream",
     "text": [
      "Predicted Demand: High\n"
     ]
    }
   ],
   "source": [
    "# Load the saved model\n",
    "model = joblib.load(\"demand_prediction_model.pkl\")\n",
    "\n",
    "# Example Test Input: Latitude, Longitude, and Time\n",
    "test_input = pd.DataFrame({\n",
    "    \"Latitude\": [12.9716],   # Example: Bangalore\n",
    "    \"Longitude\": [77.5946],\n",
    "\n",
    "    \"Time_Minutes\": [9 * 60]  # 9:00 AM in minutes\n",
    "})\n",
    "\n",
    "# Predict Demand\n",
    "prediction = model.predict(test_input)\n",
    "\n",
    "# Output Result\n",
    "print(\"Predicted Demand:\", \"High\" if prediction[0] == 1 else \"Low\")\n"
   ]
  },
  {
   "cell_type": "code",
   "execution_count": 4,
   "metadata": {},
   "outputs": [
    {
     "name": "stdout",
     "output_type": "stream",
     "text": [
      "Predicted Demand: Low\n"
     ]
    }
   ],
   "source": [
    "# Load the saved model\n",
    "model = joblib.load(\"demand_prediction_model.pkl\")\n",
    "\n",
    "# Example Test Input: Latitude, Longitude, and Time\n",
    "test_input = pd.DataFrame({\n",
    "    \"Latitude\": [12.9716],   # Example: Bangalore\n",
    "    \"Longitude\": [77.5946],\n",
    "    \"Time_Minutes\": [12 * 60]  # 9:00 AM in minutes\n",
    "})\n",
    "\n",
    "# Predict Demand\n",
    "prediction = model.predict(test_input)\n",
    "\n",
    "# Output Result\n",
    "print(\"Predicted Demand:\", \"High\" if prediction[0] == 1 else \"Low\")\n"
   ]
  }
 ],
 "metadata": {
  "kernelspec": {
   "display_name": "Python 3",
   "language": "python",
   "name": "python3"
  },
  "language_info": {
   "codemirror_mode": {
    "name": "ipython",
    "version": 3
   },
   "file_extension": ".py",
   "mimetype": "text/x-python",
   "name": "python",
   "nbconvert_exporter": "python",
   "pygments_lexer": "ipython3",
   "version": "3.13.1"
  }
 },
 "nbformat": 4,
 "nbformat_minor": 2
}
