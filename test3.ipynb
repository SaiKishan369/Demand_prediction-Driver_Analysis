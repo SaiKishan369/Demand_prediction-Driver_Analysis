{
 "cells": [
  {
   "cell_type": "code",
   "execution_count": 1,
   "metadata": {},
   "outputs": [
    {
     "name": "stdout",
     "output_type": "stream",
     "text": [
      "                      Name   Latitude  Longitude timestamp\n",
      "0  Whitefield TTMC Parking  12.976810  77.726878  11:51:00\n",
      "1                  Unnamed  12.914445  77.637000  17:57:00\n",
      "2                  Unnamed  12.884377  77.726552  09:17:00\n",
      "3                  Unnamed  12.893634  77.600952  21:08:00\n",
      "4                  Unnamed  12.893036  77.601510  08:33:16\n",
      "<class 'pandas.core.frame.DataFrame'>\n",
      "RangeIndex: 761 entries, 0 to 760\n",
      "Data columns (total 4 columns):\n",
      " #   Column     Non-Null Count  Dtype  \n",
      "---  ------     --------------  -----  \n",
      " 0   Name       761 non-null    object \n",
      " 1   Latitude   761 non-null    float64\n",
      " 2   Longitude  761 non-null    float64\n",
      " 3   timestamp  761 non-null    object \n",
      "dtypes: float64(2), object(2)\n",
      "memory usage: 23.9+ KB\n",
      "None\n"
     ]
    }
   ],
   "source": [
    "# Import necessary libraries\n",
    "import pandas as pd\n",
    "import numpy as np\n",
    "import joblib\n",
    "from sklearn.model_selection import train_test_split\n",
    "from sklearn.ensemble import RandomForestClassifier\n",
    "from sklearn.metrics import accuracy_score, classification_report\n",
    "\n",
    "# Load Dataset\n",
    "file_path = \"Dataset/Cleaned_bangalore_parking.csv\"\n",
    "df = pd.read_csv(file_path)\n",
    "\n",
    "# Display first few rows to understand the structure\n",
    "print(df.head())\n",
    "print(df.info())  # Check for missing values\n"
   ]
  },
  {
   "cell_type": "code",
   "execution_count": 4,
   "metadata": {},
   "outputs": [
    {
     "name": "stdout",
     "output_type": "stream",
     "text": [
      "                      Name   Latitude  Longitude  Time_Minutes\n",
      "0  Whitefield TTMC Parking  12.976810  77.726878           711\n",
      "1                  Unnamed  12.914445  77.637000          1077\n",
      "2                  Unnamed  12.884377  77.726552           557\n",
      "3                  Unnamed  12.893634  77.600952          1268\n",
      "4                  Unnamed  12.893036  77.601510           513\n"
     ]
    }
   ],
   "source": [
    "import pandas as pd\n",
    "\n",
    "# Function to convert timestamp to minutes\n",
    "def time_to_minutes(time_str):\n",
    "    try:\n",
    "        time_obj = pd.to_datetime(time_str, errors=\"coerce\")  # Convert to datetime\n",
    "        if pd.isnull(time_obj):  # Handle invalid values\n",
    "            return None\n",
    "        return time_obj.hour * 60 + time_obj.minute  # Convert to total minutes\n",
    "    except Exception as e:\n",
    "        print(f\"Error processing time: {time_str} -> {e}\")\n",
    "        return None\n",
    "\n",
    "# Load CSV\n",
    "df = pd.read_csv(\"Dataset/Cleaned_bangalore_parking.csv\")\n",
    "\n",
    "# Apply the function to convert timestamp\n",
    "df[\"Time_Minutes\"] = df[\"timestamp\"].apply(time_to_minutes)\n",
    "\n",
    "# Drop original timestamp column (optional)\n",
    "df.drop(columns=[\"timestamp\"], inplace=True)\n",
    "\n",
    "# Show sample data\n",
    "print(df.head())\n"
   ]
  },
  {
   "cell_type": "code",
   "execution_count": 9,
   "metadata": {},
   "outputs": [
    {
     "name": "stdout",
     "output_type": "stream",
     "text": [
      "Balanced dataset created with demand and non-demand zones!\n"
     ]
    }
   ],
   "source": [
    "import pandas as pd\n",
    "import numpy as np\n",
    "\n",
    "# Load dataset (all rows are demand zones)\n",
    "df = pd.read_csv(\"Dataset/Cleaned_bangalore_parking.csv\")\n",
    "\n",
    "# Convert timestamp to minutes\n",
    "def time_to_minutes(time_str):\n",
    "    time_obj = pd.to_datetime(time_str, errors=\"coerce\")\n",
    "    return None if pd.isnull(time_obj) else time_obj.hour * 60 + time_obj.minute\n",
    "\n",
    "df[\"Time_Minutes\"] = df[\"timestamp\"].apply(time_to_minutes)\n",
    "df.drop(columns=[\"timestamp\"], inplace=True)\n",
    "\n",
    "# Mark demand presence as 1 (since all rows are demand zones)\n",
    "df[\"demand_presence\"] = 1\n",
    "\n",
    "# Generate non-demand samples by shifting time to non-peak hours\n",
    "num_fake_samples = len(df)  # Same number of non-demand samples\n",
    "\n",
    "# Define peak hours (modify based on data insights)\n",
    "peak_start = 8 * 60  # 8:00 AM in minutes\n",
    "peak_end = 11 * 60  # 11:00 AM in minutes\n",
    "\n",
    "fake_times = np.random.choice(\n",
    "    list(range(0, peak_start)) + list(range(peak_end, 1440)),  # Select only non-peak hours\n",
    "    num_fake_samples\n",
    ")\n",
    "\n",
    "df_fake = df.copy()\n",
    "df_fake[\"Time_Minutes\"] = fake_times  # Assign non-peak times\n",
    "df_fake[\"demand_presence\"] = 0  # Mark as non-demand\n",
    "\n",
    "# Combine real and fake samples\n",
    "df_combined = pd.concat([df, df_fake], ignore_index=True)\n",
    "\n",
    "# Shuffle dataset\n",
    "df_combined = df_combined.sample(frac=1, random_state=42).reset_index(drop=True)\n",
    "\n",
    "# Save new dataset\n",
    "df_combined.to_csv(\"Dataset/Demand_Training_Data.csv\", index=False)\n",
    "\n",
    "print(\"Balanced dataset created with demand and non-demand zones!\")\n"
   ]
  },
  {
   "cell_type": "code",
   "execution_count": 10,
   "metadata": {},
   "outputs": [
    {
     "name": "stdout",
     "output_type": "stream",
     "text": [
      "Model Accuracy: 0.4491803278688525\n",
      "              precision    recall  f1-score   support\n",
      "\n",
      "           0       0.45      0.44      0.44       154\n",
      "           1       0.45      0.46      0.45       151\n",
      "\n",
      "    accuracy                           0.45       305\n",
      "   macro avg       0.45      0.45      0.45       305\n",
      "weighted avg       0.45      0.45      0.45       305\n",
      "\n"
     ]
    }
   ],
   "source": [
    "from sklearn.model_selection import train_test_split\n",
    "from sklearn.ensemble import RandomForestClassifier\n",
    "from sklearn.metrics import accuracy_score, classification_report\n",
    "\n",
    "# Load balanced dataset\n",
    "df = pd.read_csv(\"Dataset/Demand_Training_Data.csv\")\n",
    "\n",
    "# Define features and target\n",
    "X = df[[\"Latitude\", \"Longitude\", \"Time_Minutes\"]]\n",
    "y = df[\"demand_presence\"]\n",
    "\n",
    "# Split into training and testing sets (80% train, 20% test)\n",
    "X_train, X_test, y_train, y_test = train_test_split(X, y, test_size=0.2, random_state=42)\n",
    "\n",
    "# Train a Random Forest model\n",
    "model = RandomForestClassifier(n_estimators=100, random_state=42)\n",
    "model.fit(X_train, y_train)\n",
    "\n",
    "# Test the model\n",
    "y_pred = model.predict(X_test)\n",
    "\n",
    "# Evaluate performance\n",
    "print(\"Model Accuracy:\", accuracy_score(y_test, y_pred))\n",
    "print(classification_report(y_test, y_pred))\n"
   ]
  },
  {
   "cell_type": "code",
   "execution_count": 11,
   "metadata": {},
   "outputs": [],
   "source": [
    "import pandas as pd\n",
    "import numpy as np\n",
    "\n",
    "# Function to convert time (HH:MM) to minutes\n",
    "def time_to_minutes(time_str):\n",
    "    h, m = map(int, time_str.split(\":\"))\n",
    "    return h * 60 + m\n",
    "\n",
    "# Function to predict demand for a given location & time\n",
    "def predict_demand(latitude, longitude, time_str, model):\n",
    "    # Convert time to minutes\n",
    "    time_minutes = time_to_minutes(time_str)\n",
    "\n",
    "    # Create input data for prediction\n",
    "    input_data = np.array([[latitude, longitude, time_minutes]])\n",
    "\n",
    "    # Predict using trained model\n",
    "    prediction = model.predict(input_data)\n",
    "\n",
    "    # Return result\n",
    "    return \"Demand Zone\" if prediction[0] == 1 else \"Non-Demand Zone\"\n"
   ]
  },
  {
   "cell_type": "code",
   "execution_count": 12,
   "metadata": {},
   "outputs": [
    {
     "name": "stdout",
     "output_type": "stream",
     "text": [
      "Location (12.9716, 77.5946) at 09:30 → Demand Zone\n",
      "Location (12.9611, 77.6387) at 14:00 → Non-Demand Zone\n",
      "Location (13.0358, 77.597) at 18:15 → Demand Zone\n"
     ]
    },
    {
     "name": "stderr",
     "output_type": "stream",
     "text": [
      "c:\\Users\\saiki\\AppData\\Local\\Programs\\Python\\Python313\\Lib\\site-packages\\sklearn\\utils\\validation.py:2739: UserWarning: X does not have valid feature names, but RandomForestClassifier was fitted with feature names\n",
      "  warnings.warn(\n",
      "c:\\Users\\saiki\\AppData\\Local\\Programs\\Python\\Python313\\Lib\\site-packages\\sklearn\\utils\\validation.py:2739: UserWarning: X does not have valid feature names, but RandomForestClassifier was fitted with feature names\n",
      "  warnings.warn(\n",
      "c:\\Users\\saiki\\AppData\\Local\\Programs\\Python\\Python313\\Lib\\site-packages\\sklearn\\utils\\validation.py:2739: UserWarning: X does not have valid feature names, but RandomForestClassifier was fitted with feature names\n",
      "  warnings.warn(\n"
     ]
    }
   ],
   "source": [
    "# Example test locations & times\n",
    "test_locations = [\n",
    "    {\"latitude\": 12.9716, \"longitude\": 77.5946, \"time\": \"09:30\"},  # Peak time\n",
    "    {\"latitude\": 12.9611, \"longitude\": 77.6387, \"time\": \"14:00\"},  # Off-peak\n",
    "    {\"latitude\": 13.0358, \"longitude\": 77.5970, \"time\": \"18:15\"},  # Evening rush\n",
    "]\n",
    "\n",
    "# Check demand prediction for each test case\n",
    "for loc in test_locations:\n",
    "    result = predict_demand(loc[\"latitude\"], loc[\"longitude\"], loc[\"time\"], model)\n",
    "    print(f\"Location ({loc['latitude']}, {loc['longitude']}) at {loc['time']} → {result}\")\n"
   ]
  },
  {
   "cell_type": "code",
   "execution_count": 13,
   "metadata": {},
   "outputs": [
    {
     "name": "stdout",
     "output_type": "stream",
     "text": [
      "Model saved successfully as demand_prediction_model.pkl\n"
     ]
    }
   ],
   "source": [
    "import joblib\n",
    "\n",
    "# Save the trained model\n",
    "joblib.dump(model, \"demand_prediction_model2.pkl\")\n",
    "print(\"Model saved successfully as demand_prediction_model.pkl\")\n"
   ]
  },
  {
   "cell_type": "code",
   "execution_count": null,
   "metadata": {},
   "outputs": [
    {
     "name": "stdout",
     "output_type": "stream",
     "text": [
      "Model loaded successfully!\n",
      "Prediction: Demand Zone\n"
     ]
    }
   ],
   "source": [
    "import joblib\n",
    "\n",
    "# Load the trained model\n",
    "model = joblib.load(\"demand_prediction_model2.pkl\")\n",
    "print(\"Model loaded successfully!\")\n",
    "\n",
    "import pandas as pd\n",
    "\n",
    "# Example test data (latitude, longitude, and time in minutes)\n",
    "test_data = pd.DataFrame({\n",
    "    \"Latitude\": [12.9716],  # Example location in Bangalore\n",
    "    \"Longitude\": [77.5946],\n",
    "    \"Time_Minutes\": [9 * 60 + 30]  # 9:30 AM converted to minutes\n",
    "})\n",
    "\n",
    "# Make predictions\n",
    "prediction = model.predict(test_data)\n",
    "\n",
    "# Show result\n",
    "print(\"Demand\", \"High\" if prediction[0] == 1 else \"Low\")\n",
    "\n"
   ]
  },
  {
   "cell_type": "code",
   "execution_count": 15,
   "metadata": {},
   "outputs": [
    {
     "name": "stdout",
     "output_type": "stream",
     "text": [
      "Model loaded successfully!\n",
      "Prediction: No Demand Zone\n"
     ]
    }
   ],
   "source": [
    "\n",
    "import joblib\n",
    "\n",
    "# Load the trained model\n",
    "model = joblib.load(\"demand_prediction_model2.pkl\")\n",
    "print(\"Model loaded successfully!\")\n",
    "\n",
    "import pandas as pd\n",
    "\n",
    "# Example test data (latitude, longitude, and time in minutes)\n",
    "test_data = pd.DataFrame({\n",
    "    \"Latitude\": [12.9611],  # Example location in Bangalore\n",
    "    \"Longitude\": [77.6387],\n",
    "    \"Time_Minutes\": [14 * 60 + 30]  # 9:30 AM converted to minutes\n",
    "})\n",
    "\n",
    "# Make predictions\n",
    "prediction = model.predict(test_data)\n",
    "\n",
    "# Show result\n",
    "print(\"Prediction:\", \"Demand Zone\" if prediction[0] == 1 else \"No Demand Zone\")\n",
    "\n"
   ]
  }
 ],
 "metadata": {
  "kernelspec": {
   "display_name": "Python 3",
   "language": "python",
   "name": "python3"
  },
  "language_info": {
   "codemirror_mode": {
    "name": "ipython",
    "version": 3
   },
   "file_extension": ".py",
   "mimetype": "text/x-python",
   "name": "python",
   "nbconvert_exporter": "python",
   "pygments_lexer": "ipython3",
   "version": "3.13.1"
  }
 },
 "nbformat": 4,
 "nbformat_minor": 2
}
